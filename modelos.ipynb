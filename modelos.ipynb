{
 "cells": [
  {
   "cell_type": "code",
   "execution_count": 2,
   "metadata": {},
   "outputs": [],
   "source": [
    "import os\n",
    "import numpy as np\n",
    "import pandas as pd\n",
    "from PIL import Image\n",
    "import matplotlib.pyplot as plt\n",
    "\n",
    "import cv2\n",
    "from skimage.feature import hog\n",
    "\n",
    "from sklearn import svm\n",
    "from sklearn.model_selection import train_test_split\n",
    "from sklearn.preprocessing import LabelEncoder, OneHotEncoder, normalize\n",
    "from sklearn.metrics import classification_report, accuracy_score\n",
    "\n",
    "\n",
    "from tensorflow.keras.models import Sequential, load_model\n",
    "from tensorflow.keras.optimizers import Adam\n",
    "from tensorflow.keras.layers import Dense, Dropout, Flatten, Conv2D, MaxPool2D"
   ]
  },
  {
   "cell_type": "markdown",
   "metadata": {},
   "source": [
    "# Lendo e tratando dados"
   ]
  },
  {
   "cell_type": "code",
   "execution_count": 3,
   "metadata": {},
   "outputs": [],
   "source": [
    "def process_image(image_path):\n",
    "    img = Image.open(image_path).convert('L')\n",
    "    img_array = np.array(img)\n",
    "    return img_array"
   ]
  },
  {
   "cell_type": "code",
   "execution_count": 4,
   "metadata": {},
   "outputs": [],
   "source": [
    "def load_images_from_folder(folder_path):\n",
    "    images = []\n",
    "    for filename in os.listdir(folder_path):\n",
    "        if filename.endswith('.jpg'):\n",
    "            img_path = os.path.join(folder_path, filename)\n",
    "            img_binary = process_image(img_path)\n",
    "            images.append(img_binary.flatten())\n",
    "    return images"
   ]
  },
  {
   "cell_type": "code",
   "execution_count": 5,
   "metadata": {},
   "outputs": [],
   "source": [
    "def load_strings_from_folder(folder_path):\n",
    "    strings = []\n",
    "    filenames = []\n",
    "    for filename in os.listdir(folder_path):\n",
    "        if filename.endswith('.txt'):\n",
    "            file_path = os.path.join(folder_path, filename)\n",
    "            try:\n",
    "                with open(file_path, 'r') as file:\n",
    "                    content = file.read().strip()\n",
    "                    strings.append(content)\n",
    "                    filenames.append(filename)\n",
    "            except Exception as e:\n",
    "                print(f\"Erro ao ler o arquivo {file_path}: {e}\")\n",
    "    return strings, filenames"
   ]
  },
  {
   "cell_type": "code",
   "execution_count": 6,
   "metadata": {},
   "outputs": [],
   "source": [
    "treinamento = load_images_from_folder('dados/CAPTCHA-10k/treinamento')\n",
    "treinamento = np.array(treinamento)\n",
    "validacao = load_images_from_folder('dados/CAPTCHA-10k/validacao')\n",
    "validacao = np.array(validacao)\n",
    "teste = load_images_from_folder('dados/CAPTCHA-10k/teste')\n",
    "teste = np.array(teste)\n",
    "labels = load_strings_from_folder('dados/CAPTCHA-10k/labels10k')[0]"
   ]
  },
  {
   "cell_type": "code",
   "execution_count": 7,
   "metadata": {},
   "outputs": [],
   "source": [
    "treino_x = treinamento\n",
    "treino_y = labels[:8000]\n",
    "\n",
    "validacao_x = validacao\n",
    "validacao_y = labels[8000:9000]\n",
    "\n",
    "teste_x = teste\n",
    "teste_y = labels[9000:]"
   ]
  },
  {
   "cell_type": "code",
   "execution_count": 8,
   "metadata": {},
   "outputs": [],
   "source": [
    "def print_img(image):\n",
    "    plt.imshow(image, cmap='gray', interpolation='nearest')\n",
    "    plt.axis('off')\n",
    "    plt.show()"
   ]
  },
  {
   "cell_type": "code",
   "execution_count": 9,
   "metadata": {},
   "outputs": [],
   "source": [
    "def apply_unsharp_mask(image, kernel_size=(5, 5), sigma=1.5):\n",
    "    kernel = np.array([[0, -1, 0],\n",
    "                       [-1, 6,-1],\n",
    "                       [0, -1, 0]])\n",
    "    blurred = cv2.GaussianBlur(image, kernel_size, sigma)\n",
    "    sharpened = cv2.filter2D(blurred, -1, kernel)\n",
    "    \n",
    "    return sharpened"
   ]
  },
  {
   "cell_type": "code",
   "execution_count": 10,
   "metadata": {},
   "outputs": [],
   "source": [
    "def particionar_img(image_array):\n",
    "    image_array = np.reshape(image_array, (50, 180))\n",
    "    # print_img(image_array)\n",
    "    particoes = []\n",
    "    offset = 30\n",
    "    for i in range(0, 6):\n",
    "        particao = image_array[10: 46, 5+offset*i:45+offset*i]\n",
    "        particao = apply_unsharp_mask(particao)\n",
    "        particoes.append(particao)\n",
    "        # print_img(particao)\n",
    "    particoes[5] = np.pad(particoes[5], ((0, 0), (7, 8)), 'constant', constant_values=255)\n",
    "    return particoes"
   ]
  },
  {
   "cell_type": "code",
   "execution_count": 11,
   "metadata": {},
   "outputs": [],
   "source": [
    "def aplicar_particao(images):\n",
    "    images_particionadas = []\n",
    "    for i in range(len(images)):\n",
    "        images_particionadas.extend(particionar_img(images[i]))\n",
    "    return np.array(images_particionadas)"
   ]
  },
  {
   "cell_type": "code",
   "execution_count": 12,
   "metadata": {},
   "outputs": [],
   "source": [
    "def particonar_strings(strings):\n",
    "    strings_particionadas = []\n",
    "    for i in range(0, len(strings)):\n",
    "        for j in range(0, 6):\n",
    "            strings_particionadas.append(strings[i][j])\n",
    "    \n",
    "    return np.array(strings_particionadas)"
   ]
  },
  {
   "cell_type": "code",
   "execution_count": 13,
   "metadata": {},
   "outputs": [],
   "source": [
    "set_caracteres = ['0', '1', '2', '3', '4', '5', '6', '7', '8', '9', '?',\n",
    "                  'A', 'B', 'C', 'D', 'E', 'F', 'G', 'H', 'I', 'J', 'K', 'L',\n",
    "                  'M', 'N', 'O', 'P', 'Q', 'R', 'S', 'T', 'U', 'V', 'W', 'X', 'Y', 'Z']\n",
    "\n",
    "label_encoder = LabelEncoder()\n",
    "integer_encoded = label_encoder.fit_transform(set_caracteres)\n",
    "\n",
    "onehot_encoder = OneHotEncoder(sparse=False)\n",
    "integer_encoded = integer_encoded.reshape(len(integer_encoded), 1)\n",
    "onehot_encoded = onehot_encoder.fit_transform(integer_encoded)\n",
    "\n",
    "char_to_int = dict((c, i) for i, c in enumerate(set_caracteres))\n",
    "int_to_char = dict((i, c) for i, c in enumerate(set_caracteres))"
   ]
  },
  {
   "cell_type": "code",
   "execution_count": 14,
   "metadata": {},
   "outputs": [],
   "source": [
    "X_train = aplicar_particao(treino_x)\n",
    "X_test = aplicar_particao(teste_x)\n",
    "X_val = aplicar_particao(validacao_x)\n",
    "\n",
    "y_train = particonar_strings(treino_y)\n",
    "y_test = particonar_strings(teste_y)\n",
    "y_val = particonar_strings(validacao_y)"
   ]
  },
  {
   "cell_type": "code",
   "execution_count": 15,
   "metadata": {},
   "outputs": [],
   "source": [
    "y_train_int = label_encoder.transform(y_train)\n",
    "y_test_int = label_encoder.transform(y_test)\n",
    "y_val_int = label_encoder.transform(y_val)\n",
    "\n",
    "y_train_onehot = onehot_encoder.transform(y_train_int.reshape(-1, 1))\n",
    "y_test_onehot = onehot_encoder.transform(y_test_int.reshape(-1, 1))\n",
    "y_val_onehot = onehot_encoder.transform(y_val_int.reshape(-1, 1))"
   ]
  },
  {
   "cell_type": "markdown",
   "metadata": {},
   "source": [
    "# HOG"
   ]
  },
  {
   "cell_type": "code",
   "execution_count": 16,
   "metadata": {},
   "outputs": [],
   "source": [
    "def extract_hog_features(images):\n",
    "    hog_features = []\n",
    "    for image in images:    \n",
    "        fd = hog(image, orientations=8, pixels_per_cell=(6, 5), cells_per_block=(1, 1))\n",
    "        hog_features.append(fd)\n",
    "    return np.array(hog_features)"
   ]
  },
  {
   "cell_type": "code",
   "execution_count": 17,
   "metadata": {},
   "outputs": [],
   "source": [
    "X_train_hog = extract_hog_features(X_train)\n",
    "X_test_hog = extract_hog_features(X_test)\n",
    "X_val_hog = extract_hog_features(X_val)"
   ]
  },
  {
   "cell_type": "markdown",
   "metadata": {},
   "source": [
    "## Classificador SVM"
   ]
  },
  {
   "cell_type": "code",
   "execution_count": 18,
   "metadata": {},
   "outputs": [
    {
     "data": {
      "text/html": [
       "<style>#sk-container-id-1 {color: black;background-color: white;}#sk-container-id-1 pre{padding: 0;}#sk-container-id-1 div.sk-toggleable {background-color: white;}#sk-container-id-1 label.sk-toggleable__label {cursor: pointer;display: block;width: 100%;margin-bottom: 0;padding: 0.3em;box-sizing: border-box;text-align: center;}#sk-container-id-1 label.sk-toggleable__label-arrow:before {content: \"▸\";float: left;margin-right: 0.25em;color: #696969;}#sk-container-id-1 label.sk-toggleable__label-arrow:hover:before {color: black;}#sk-container-id-1 div.sk-estimator:hover label.sk-toggleable__label-arrow:before {color: black;}#sk-container-id-1 div.sk-toggleable__content {max-height: 0;max-width: 0;overflow: hidden;text-align: left;background-color: #f0f8ff;}#sk-container-id-1 div.sk-toggleable__content pre {margin: 0.2em;color: black;border-radius: 0.25em;background-color: #f0f8ff;}#sk-container-id-1 input.sk-toggleable__control:checked~div.sk-toggleable__content {max-height: 200px;max-width: 100%;overflow: auto;}#sk-container-id-1 input.sk-toggleable__control:checked~label.sk-toggleable__label-arrow:before {content: \"▾\";}#sk-container-id-1 div.sk-estimator input.sk-toggleable__control:checked~label.sk-toggleable__label {background-color: #d4ebff;}#sk-container-id-1 div.sk-label input.sk-toggleable__control:checked~label.sk-toggleable__label {background-color: #d4ebff;}#sk-container-id-1 input.sk-hidden--visually {border: 0;clip: rect(1px 1px 1px 1px);clip: rect(1px, 1px, 1px, 1px);height: 1px;margin: -1px;overflow: hidden;padding: 0;position: absolute;width: 1px;}#sk-container-id-1 div.sk-estimator {font-family: monospace;background-color: #f0f8ff;border: 1px dotted black;border-radius: 0.25em;box-sizing: border-box;margin-bottom: 0.5em;}#sk-container-id-1 div.sk-estimator:hover {background-color: #d4ebff;}#sk-container-id-1 div.sk-parallel-item::after {content: \"\";width: 100%;border-bottom: 1px solid gray;flex-grow: 1;}#sk-container-id-1 div.sk-label:hover label.sk-toggleable__label {background-color: #d4ebff;}#sk-container-id-1 div.sk-serial::before {content: \"\";position: absolute;border-left: 1px solid gray;box-sizing: border-box;top: 0;bottom: 0;left: 50%;z-index: 0;}#sk-container-id-1 div.sk-serial {display: flex;flex-direction: column;align-items: center;background-color: white;padding-right: 0.2em;padding-left: 0.2em;position: relative;}#sk-container-id-1 div.sk-item {position: relative;z-index: 1;}#sk-container-id-1 div.sk-parallel {display: flex;align-items: stretch;justify-content: center;background-color: white;position: relative;}#sk-container-id-1 div.sk-item::before, #sk-container-id-1 div.sk-parallel-item::before {content: \"\";position: absolute;border-left: 1px solid gray;box-sizing: border-box;top: 0;bottom: 0;left: 50%;z-index: -1;}#sk-container-id-1 div.sk-parallel-item {display: flex;flex-direction: column;z-index: 1;position: relative;background-color: white;}#sk-container-id-1 div.sk-parallel-item:first-child::after {align-self: flex-end;width: 50%;}#sk-container-id-1 div.sk-parallel-item:last-child::after {align-self: flex-start;width: 50%;}#sk-container-id-1 div.sk-parallel-item:only-child::after {width: 0;}#sk-container-id-1 div.sk-dashed-wrapped {border: 1px dashed gray;margin: 0 0.4em 0.5em 0.4em;box-sizing: border-box;padding-bottom: 0.4em;background-color: white;}#sk-container-id-1 div.sk-label label {font-family: monospace;font-weight: bold;display: inline-block;line-height: 1.2em;}#sk-container-id-1 div.sk-label-container {text-align: center;}#sk-container-id-1 div.sk-container {/* jupyter's `normalize.less` sets `[hidden] { display: none; }` but bootstrap.min.css set `[hidden] { display: none !important; }` so we also need the `!important` here to be able to override the default hidden behavior on the sphinx rendered scikit-learn.org. See: https://github.com/scikit-learn/scikit-learn/issues/21755 */display: inline-block !important;position: relative;}#sk-container-id-1 div.sk-text-repr-fallback {display: none;}</style><div id=\"sk-container-id-1\" class=\"sk-top-container\"><div class=\"sk-text-repr-fallback\"><pre>SVC(kernel=&#x27;linear&#x27;)</pre><b>In a Jupyter environment, please rerun this cell to show the HTML representation or trust the notebook. <br />On GitHub, the HTML representation is unable to render, please try loading this page with nbviewer.org.</b></div><div class=\"sk-container\" hidden><div class=\"sk-item\"><div class=\"sk-estimator sk-toggleable\"><input class=\"sk-toggleable__control sk-hidden--visually\" id=\"sk-estimator-id-1\" type=\"checkbox\" checked><label for=\"sk-estimator-id-1\" class=\"sk-toggleable__label sk-toggleable__label-arrow\">SVC</label><div class=\"sk-toggleable__content\"><pre>SVC(kernel=&#x27;linear&#x27;)</pre></div></div></div></div></div>"
      ],
      "text/plain": [
       "SVC(kernel='linear')"
      ]
     },
     "execution_count": 18,
     "metadata": {},
     "output_type": "execute_result"
    }
   ],
   "source": [
    "model_svm = svm.SVC(kernel='linear')\n",
    "model_svm.fit(X_train_hog, y_train_int)"
   ]
  },
  {
   "cell_type": "code",
   "execution_count": 19,
   "metadata": {},
   "outputs": [
    {
     "name": "stdout",
     "output_type": "stream",
     "text": [
      "Accuracy: 0.9035\n"
     ]
    }
   ],
   "source": [
    "y_pred_svm = model_svm.predict(X_test_hog)\n",
    "print(\"Accuracy:\", accuracy_score(y_test_int, y_pred_svm))\n",
    "\n",
    "accuracy_vector_svm = (y_pred_svm == y_test_int).astype(int)\n"
   ]
  },
  {
   "cell_type": "markdown",
   "metadata": {},
   "source": [
    "## Classificador NN"
   ]
  },
  {
   "cell_type": "code",
   "execution_count": 30,
   "metadata": {},
   "outputs": [],
   "source": [
    "input_shape = (384,) \n",
    "\n",
    "model_nn = Sequential()\n",
    "model_nn.add(Flatten(input_shape=input_shape))\n",
    "model_nn.add(Dense(128, activation='relu'))\n",
    "model_nn.add(Dropout(0.2))\n",
    "model_nn.add(Dense(128, activation='relu'))\n",
    "model_nn.add(Dropout(0.2))\n",
    "model_nn.add(Dense(37, activation='softmax'))\n",
    "model_nn.compile(loss='categorical_crossentropy', \n",
    "              optimizer='adam', metrics=['accuracy'])"
   ]
  },
  {
   "cell_type": "code",
   "execution_count": 31,
   "metadata": {},
   "outputs": [
    {
     "name": "stdout",
     "output_type": "stream",
     "text": [
      "Epoch 1/10\n",
      "1500/1500 [==============================] - 9s 6ms/step - loss: 0.9932 - accuracy: 0.7036 - val_loss: 0.3864 - val_accuracy: 0.8887\n",
      "Epoch 2/10\n",
      "1500/1500 [==============================] - 9s 6ms/step - loss: 0.4796 - accuracy: 0.8523 - val_loss: 0.3322 - val_accuracy: 0.8990\n",
      "Epoch 3/10\n",
      "1500/1500 [==============================] - 8s 6ms/step - loss: 0.4014 - accuracy: 0.8751 - val_loss: 0.3019 - val_accuracy: 0.9077\n",
      "Epoch 4/10\n",
      "1500/1500 [==============================] - 11s 7ms/step - loss: 0.3544 - accuracy: 0.8882 - val_loss: 0.2899 - val_accuracy: 0.9125\n",
      "Epoch 5/10\n",
      "1500/1500 [==============================] - 11s 7ms/step - loss: 0.3284 - accuracy: 0.8970 - val_loss: 0.2755 - val_accuracy: 0.9145\n",
      "Epoch 6/10\n",
      "1500/1500 [==============================] - 10s 6ms/step - loss: 0.2980 - accuracy: 0.9075 - val_loss: 0.2729 - val_accuracy: 0.9202\n",
      "Epoch 7/10\n",
      "1500/1500 [==============================] - 11s 7ms/step - loss: 0.2831 - accuracy: 0.9093 - val_loss: 0.2707 - val_accuracy: 0.9227\n",
      "Epoch 8/10\n",
      "1500/1500 [==============================] - 10s 7ms/step - loss: 0.2643 - accuracy: 0.9153 - val_loss: 0.2660 - val_accuracy: 0.9200\n",
      "Epoch 9/10\n",
      "1500/1500 [==============================] - 8s 5ms/step - loss: 0.2518 - accuracy: 0.9186 - val_loss: 0.2675 - val_accuracy: 0.9230\n",
      "Epoch 10/10\n",
      "1500/1500 [==============================] - 8s 5ms/step - loss: 0.2403 - accuracy: 0.9222 - val_loss: 0.2759 - val_accuracy: 0.9235\n"
     ]
    },
    {
     "data": {
      "text/plain": [
       "<keras.callbacks.History at 0x1912331e1a0>"
      ]
     },
     "execution_count": 31,
     "metadata": {},
     "output_type": "execute_result"
    }
   ],
   "source": [
    "model_nn.fit(X_train_hog, y_train_onehot, epochs=10, batch_size=32, validation_data=(X_val_hog, y_val_onehot))"
   ]
  },
  {
   "cell_type": "code",
   "execution_count": 32,
   "metadata": {},
   "outputs": [
    {
     "name": "stdout",
     "output_type": "stream",
     "text": [
      "188/188 [==============================] - 0s 2ms/step\n",
      "Accuracy: 0.923\n"
     ]
    }
   ],
   "source": [
    "y_pred_nn = model_nn.predict(X_test_hog)\n",
    "y_pred_classes_nn = np.argmax(y_pred_nn, axis=1)\n",
    "y_true_nn = np.argmax(y_test_onehot, axis=1)\n",
    "\n",
    "accuracy_vector_nn = (y_pred_classes_nn == y_true_nn).astype(int)\n",
    "\n",
    "print(\"Accuracy:\", accuracy_score(y_true_nn, y_pred_classes_nn))"
   ]
  },
  {
   "cell_type": "markdown",
   "metadata": {},
   "source": [
    "# CNN"
   ]
  },
  {
   "cell_type": "code",
   "execution_count": 23,
   "metadata": {},
   "outputs": [],
   "source": [
    "input_shape = (36, 40, 1)\n",
    "num_classes = 37\n",
    "\n",
    "model = Sequential()\n",
    "model.add(Conv2D(32, kernel_size=(3, 3), activation='relu', padding='Same', input_shape=input_shape))\n",
    "model.add(Conv2D(32, kernel_size=(3, 3), activation='relu', padding='Same'))\n",
    "model.add(MaxPool2D(pool_size=(2, 2)))\n",
    "\n",
    "model.add(Dropout(0.4))\n",
    "\n",
    "model.add(Flatten())\n",
    "model.add(Dense(128, activation='relu'))\n",
    "model.add(Dropout(0.4))\n",
    "model.add(Dense(num_classes, activation='softmax'))\n",
    "\n",
    "# model.summary()\n",
    "model.compile(loss='categorical_crossentropy', optimizer=Adam(), metrics=['accuracy'])"
   ]
  },
  {
   "cell_type": "code",
   "execution_count": 24,
   "metadata": {},
   "outputs": [
    {
     "name": "stdout",
     "output_type": "stream",
     "text": [
      "Epoch 1/10\n",
      "750/750 [==============================] - 12s 11ms/step - loss: 2.7550 - accuracy: 0.4636 - val_loss: 0.2759 - val_accuracy: 0.9340\n",
      "Epoch 2/10\n",
      "750/750 [==============================] - 8s 11ms/step - loss: 0.5388 - accuracy: 0.8396 - val_loss: 0.1591 - val_accuracy: 0.9555\n",
      "Epoch 3/10\n",
      "750/750 [==============================] - 8s 10ms/step - loss: 0.3709 - accuracy: 0.8906 - val_loss: 0.1427 - val_accuracy: 0.9640\n",
      "Epoch 4/10\n",
      "750/750 [==============================] - 8s 10ms/step - loss: 0.3051 - accuracy: 0.9097 - val_loss: 0.1464 - val_accuracy: 0.9625\n",
      "Epoch 5/10\n",
      "750/750 [==============================] - 8s 11ms/step - loss: 0.2668 - accuracy: 0.9197 - val_loss: 0.1568 - val_accuracy: 0.9612\n",
      "Epoch 6/10\n",
      "750/750 [==============================] - 8s 10ms/step - loss: 0.2335 - accuracy: 0.9291 - val_loss: 0.1323 - val_accuracy: 0.9670\n",
      "Epoch 7/10\n",
      "750/750 [==============================] - 8s 10ms/step - loss: 0.2139 - accuracy: 0.9349 - val_loss: 0.1519 - val_accuracy: 0.9547\n",
      "Epoch 8/10\n",
      "750/750 [==============================] - 8s 11ms/step - loss: 0.1956 - accuracy: 0.9391 - val_loss: 0.1365 - val_accuracy: 0.9643\n",
      "Epoch 9/10\n",
      "750/750 [==============================] - 8s 11ms/step - loss: 0.1796 - accuracy: 0.9457 - val_loss: 0.1299 - val_accuracy: 0.9690\n",
      "Epoch 10/10\n",
      "750/750 [==============================] - 8s 10ms/step - loss: 0.1704 - accuracy: 0.9477 - val_loss: 0.1270 - val_accuracy: 0.9695\n"
     ]
    },
    {
     "data": {
      "text/plain": [
       "<keras.callbacks.History at 0x19072902a70>"
      ]
     },
     "execution_count": 24,
     "metadata": {},
     "output_type": "execute_result"
    }
   ],
   "source": [
    "model.fit(X_train, y_train_onehot, epochs=10, batch_size=64, validation_data=(X_val, y_val_onehot))"
   ]
  },
  {
   "cell_type": "code",
   "execution_count": 25,
   "metadata": {},
   "outputs": [
    {
     "name": "stdout",
     "output_type": "stream",
     "text": [
      "188/188 [==============================] - 1s 3ms/step\n",
      "Accuracy: 0.9708333333333333\n"
     ]
    }
   ],
   "source": [
    "y_pred_cnn = model.predict(X_test)\n",
    "y_pred_classes_cnn = np.argmax(y_pred_cnn, axis=1)\n",
    "y_true_cnn = np.argmax(y_test_onehot, axis=1)\n",
    "\n",
    "accuracy_vector_cnn = (y_pred_classes_cnn == y_true_cnn).astype(int)\n",
    "\n",
    "print(\"Accuracy:\", accuracy_score(y_true_cnn, y_pred_classes_cnn))"
   ]
  },
  {
   "cell_type": "markdown",
   "metadata": {},
   "source": [
    "# Avaliando modelos"
   ]
  },
  {
   "cell_type": "code",
   "execution_count": 26,
   "metadata": {},
   "outputs": [],
   "source": [
    "def gerar_freq(accuracy_vector):\n",
    "    caracteres_reconhecidos = np.zeros(7)\n",
    "    for i in range(0, 1000):\n",
    "        soma = 0\n",
    "        for j in range(0, 6):\n",
    "            if accuracy_vector[i * 6 + j] == 1:\n",
    "                soma += 1\n",
    "        \n",
    "        caracteres_reconhecidos[soma] += 1\n",
    "\n",
    "    frequencias = np.zeros(7)\n",
    "    for i in range(0, 7):\n",
    "        frequencia = 0\n",
    "        for j in range(i, 7):\n",
    "            frequencia += caracteres_reconhecidos[j]\n",
    "        frequencias[i] = frequencia\n",
    "    frequencias = frequencias/1000\n",
    "\n",
    "    return frequencias"
   ]
  },
  {
   "cell_type": "code",
   "execution_count": 27,
   "metadata": {},
   "outputs": [],
   "source": [
    "def print_grafico(frequencias):\n",
    "    x_values = [0, 1, 2, 3, 4, 5, 6]\n",
    "    plt.figure(figsize=(10, 5))\n",
    "    plt.plot(x_values, frequencias)\n",
    "\n",
    "    plt.title('Resultado')\n",
    "    plt.xlabel('Número mínimo de caracteres reconhecidos por captcha')\n",
    "    plt.ylabel('Taxa de Reconhecimento')\n",
    "    plt.ylim(0, 1.1)\n",
    "    plt.grid(True)\n",
    "\n",
    "    plt.show()"
   ]
  },
  {
   "cell_type": "code",
   "execution_count": 33,
   "metadata": {},
   "outputs": [
    {
     "data": {
      "image/png": "[encoded data removed]",
      "text/plain": [
       "<Figure size 1000x500 with 1 Axes>"
      ]
     },
     "metadata": {},
     "output_type": "display_data"
    },
    {
     "data": {
      "image/png": "[encoded data removed]",
      "text/plain": [
       "<Figure size 1000x500 with 1 Axes>"
      ]
     },
     "metadata": {},
     "output_type": "display_data"
    },
    {
     "data": {
      "image/png": "[encoded data removed]",
      "text/plain": [
       "<Figure size 1000x500 with 1 Axes>"
      ]
     },
     "metadata": {},
     "output_type": "display_data"
    }
   ],
   "source": [
    "freq_cnn = gerar_freq(accuracy_vector_cnn)\n",
    "freq_nn = gerar_freq(accuracy_vector_nn)\n",
    "freq_svm = gerar_freq(accuracy_vector_svm)\n",
    "\n",
    "print_grafico(freq_cnn)\n",
    "print_grafico(freq_nn)\n",
    "print_grafico(freq_svm)"
   ]
  }
 ],
 "metadata": {
  "kernelspec": {
   "display_name": "base",
   "language": "python",
   "name": "python3"
  },
  "language_info": {
   "codemirror_mode": {
    "name": "ipython",
    "version": 3
   },
   "file_extension": ".py",
   "mimetype": "text/x-python",
   "name": "python",
   "nbconvert_exporter": "python",
   "pygments_lexer": "ipython3",
   "version": "3.10.14"
  }
 },
 "nbformat": 4,
 "nbformat_minor": 2
}
