{
 "cells": [
  {
   "cell_type": "code",
   "execution_count": 3,
   "metadata": {},
   "outputs": [
    {
     "name": "stderr",
     "output_type": "stream",
     "text": [
      "c:\\Users\\victo\\anaconda3\\Lib\\site-packages\\paramiko\\transport.py:219: CryptographyDeprecationWarning: Blowfish has been deprecated\n",
      "  \"class\": algorithms.Blowfish,\n"
     ]
    }
   ],
   "source": [
    "import os\n",
    "import numpy as np\n",
    "import pandas as pd\n",
    "from PIL import Image\n",
    "import matplotlib.pyplot as plt\n",
    "\n",
    "import cv2\n",
    "from skimage.feature import hog\n",
    "\n",
    "from sklearn import svm\n",
    "from sklearn.model_selection import train_test_split"
   ]
  },
  {
   "cell_type": "markdown",
   "metadata": {},
   "source": [
    "# Lendo dados"
   ]
  },
  {
   "cell_type": "code",
   "execution_count": 72,
   "metadata": {},
   "outputs": [],
   "source": [
    "def process_image(image_path):\n",
    "    # Abrir a imagem e convertê-la para escala de cinza\n",
    "    img = Image.open(image_path).convert('L')\n",
    "    # Converter a imagem em um array numpy\n",
    "    img_array = np.array(img)\n",
    "    # Binarizar a imagem (0 para preto e 1 para branco)\n",
    "    # img_binary = (img_array > 127).astype(int)  # Usando um limiar de 127\n",
    "    return img_array"
   ]
  },
  {
   "cell_type": "code",
   "execution_count": 73,
   "metadata": {},
   "outputs": [],
   "source": [
    "def load_images_from_folder(folder_path):\n",
    "    images = []\n",
    "    for filename in os.listdir(folder_path):\n",
    "        if filename.endswith('.jpg'):\n",
    "            img_path = os.path.join(folder_path, filename)\n",
    "            img_binary = process_image(img_path)\n",
    "            images.append(img_binary.flatten())\n",
    "    return images"
   ]
  },
  {
   "cell_type": "code",
   "execution_count": 74,
   "metadata": {},
   "outputs": [],
   "source": [
    "def load_strings_from_folder(folder_path):\n",
    "    strings = []\n",
    "    filenames = []\n",
    "    for filename in os.listdir(folder_path):\n",
    "        if filename.endswith('.txt'):\n",
    "            file_path = os.path.join(folder_path, filename)\n",
    "            try:\n",
    "                with open(file_path, 'r') as file:\n",
    "                    content = file.read().strip()\n",
    "                    strings.append(content)\n",
    "                    filenames.append(filename)\n",
    "            except Exception as e:\n",
    "                print(f\"Erro ao ler o arquivo {file_path}: {e}\")\n",
    "    return strings, filenames"
   ]
  },
  {
   "cell_type": "code",
   "execution_count": 223,
   "metadata": {},
   "outputs": [],
   "source": [
    "treinamento = load_images_from_folder('dados/CAPTCHA-10k/treinamento')\n",
    "treinamento = np.array(treinamento)\n",
    "validacao = load_images_from_folder('dados/CAPTCHA-10k/validacao')\n",
    "validacao = np.array(validacao)\n",
    "teste = load_images_from_folder('dados/CAPTCHA-10k/teste')\n",
    "teste = np.array(teste)\n",
    "labels = load_strings_from_folder('dados/CAPTCHA-10k/labels10k')[0]"
   ]
  },
  {
   "cell_type": "code",
   "execution_count": 76,
   "metadata": {},
   "outputs": [],
   "source": [
    "treino_x = treinamento\n",
    "treino_y = labels[:8000]\n",
    "\n",
    "validacao_x = validacao\n",
    "validacao_y = labels[8001:9000]\n",
    "\n",
    "teste_x = teste\n",
    "teste_y = labels[9001:]"
   ]
  },
  {
   "cell_type": "code",
   "execution_count": 1,
   "metadata": {},
   "outputs": [],
   "source": [
    "def print_img(image):\n",
    "    plt.imshow(image, cmap='gray', interpolation='nearest')\n",
    "    plt.axis('off')\n",
    "    plt.show()"
   ]
  },
  {
   "cell_type": "code",
   "execution_count": 154,
   "metadata": {},
   "outputs": [],
   "source": [
    "def apply_unsharp_mask(image, kernel_size=(5, 5), sigma=1.5):\n",
    "    kernel = np.array([[0, -1, 0],\n",
    "                       [-1, 6,-1],\n",
    "                       [0, -1, 0]])\n",
    "    blurred = cv2.GaussianBlur(image, kernel_size, sigma)\n",
    "    sharpened = cv2.filter2D(blurred, -1, kernel)\n",
    "    \n",
    "    return sharpened"
   ]
  },
  {
   "cell_type": "code",
   "execution_count": 201,
   "metadata": {},
   "outputs": [],
   "source": [
    "def particionar_img(image_array):\n",
    "    image_array = np.reshape(image_array, (50, 180))\n",
    "    # print_img(image_array)\n",
    "    particoes = []\n",
    "    offset = 30\n",
    "    for i in range(0, 6):\n",
    "        particao = image_array[10: 45, 5+offset*i:45+offset*i]\n",
    "        particoes.append(particao)\n",
    "        particao = apply_unsharp_mask(particao)\n",
    "        # print_img(particao)\n",
    "    particoes[5] = np.pad(particoes[5], ((0, 0), (7, 8)), 'constant', constant_values=255)\n",
    "    return particoes"
   ]
  },
  {
   "cell_type": "code",
   "execution_count": 207,
   "metadata": {},
   "outputs": [],
   "source": [
    "def aplicar_particao(images):\n",
    "    images_particionadas = []\n",
    "    for i in range(0, len(images)):\n",
    "        images_particionadas.append(particionar_img(images[i]))\n",
    "    return np.array(images_particionadas)"
   ]
  },
  {
   "cell_type": "code",
   "execution_count": 224,
   "metadata": {},
   "outputs": [],
   "source": [
    "def particonar_strings(strings):\n",
    "    strings_particionadas = []\n",
    "    for i in range(0, len(strings)):\n",
    "        string = []\n",
    "        for j in range(0, 6):\n",
    "            string.append(strings[i][j])\n",
    "        \n",
    "        strings_particionadas.append(string)\n",
    "    \n",
    "    return np.array(strings_particionadas)"
   ]
  },
  {
   "cell_type": "markdown",
   "metadata": {},
   "source": [
    "# HOG"
   ]
  },
  {
   "cell_type": "code",
   "execution_count": 58,
   "metadata": {},
   "outputs": [],
   "source": [
    "def preprocess_image(image_array):\n",
    "    # Certifique-se de que a imagem está no formato correto (180x50)\n",
    "    image_array = np.reshape(image_array, (50, 180))\n",
    "    \n",
    "    # Calcular os recursos HOG diretamente do array\n",
    "    fd, hog_image = hog(image_array, orientations=64, pixels_per_cell=(50, 30),\n",
    "                        cells_per_block=(1, 1), visualize=True)\n",
    "    \n",
    "\n",
    "    return fd, hog_image"
   ]
  },
  {
   "cell_type": "markdown",
   "metadata": {},
   "source": [
    "# CNN"
   ]
  },
  {
   "cell_type": "code",
   "execution_count": null,
   "metadata": {},
   "outputs": [],
   "source": []
  }
 ],
 "metadata": {
  "kernelspec": {
   "display_name": "base",
   "language": "python",
   "name": "python3"
  },
  "language_info": {
   "codemirror_mode": {
    "name": "ipython",
    "version": 3
   },
   "file_extension": ".py",
   "mimetype": "text/x-python",
   "name": "python",
   "nbconvert_exporter": "python",
   "pygments_lexer": "ipython3",
   "version": "3.11.4"
  }
 },
 "nbformat": 4,
 "nbformat_minor": 2
}
