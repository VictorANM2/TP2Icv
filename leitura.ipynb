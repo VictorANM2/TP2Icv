{
 "cells": [
  {
   "cell_type": "code",
   "execution_count": 1,
   "metadata": {},
   "outputs": [],
   "source": [
    "import os\n",
    "import numpy as np\n",
    "import pandas as pd\n",
    "from PIL import Image"
   ]
  },
  {
   "cell_type": "code",
   "execution_count": 2,
   "metadata": {},
   "outputs": [],
   "source": [
    "def process_image(image_path):\n",
    "    # Abrir a imagem e convertê-la para escala de cinza\n",
    "    img = Image.open(image_path).convert('L')\n",
    "    # Converter a imagem em um array numpy\n",
    "    img_array = np.array(img)\n",
    "    # Binarizar a imagem (0 para preto e 1 para branco)\n",
    "    img_binary = (img_array > 127).astype(int)  # Usando um limiar de 127\n",
    "    return img_binary"
   ]
  },
  {
   "cell_type": "code",
   "execution_count": 9,
   "metadata": {},
   "outputs": [],
   "source": [
    "def load_images_from_folder(folder_path):\n",
    "    images = []\n",
    "    for filename in os.listdir(folder_path):\n",
    "        if filename.endswith('.jpg'):\n",
    "            img_path = os.path.join(folder_path, filename)\n",
    "            img_binary = process_image(img_path)\n",
    "            images.append(img_binary.flatten())\n",
    "    return images"
   ]
  },
  {
   "cell_type": "code",
   "execution_count": 24,
   "metadata": {},
   "outputs": [],
   "source": [
    "def load_strings_from_folder(folder_path):\n",
    "    strings = []\n",
    "    filenames = []\n",
    "    for filename in os.listdir(folder_path):\n",
    "        if filename.endswith('.txt'):\n",
    "            file_path = os.path.join(folder_path, filename)\n",
    "            try:\n",
    "                with open(file_path, 'r') as file:\n",
    "                    content = file.read().strip()\n",
    "                    strings.append(content)\n",
    "                    filenames.append(filename)\n",
    "            except Exception as e:\n",
    "                print(f\"Erro ao ler o arquivo {file_path}: {e}\")\n",
    "    return strings, filenames"
   ]
  },
  {
   "cell_type": "code",
   "execution_count": 45,
   "metadata": {},
   "outputs": [],
   "source": [
    "treinamento = load_images_from_folder('dados/CAPTCHA-10k/treinamento')\n",
    "treinamento = np.array(treinamento)"
   ]
  },
  {
   "cell_type": "code",
   "execution_count": 46,
   "metadata": {},
   "outputs": [],
   "source": [
    "validacao = load_images_from_folder('dados/CAPTCHA-10k/validacao')\n",
    "validacao = np.array(validacao)"
   ]
  },
  {
   "cell_type": "code",
   "execution_count": 47,
   "metadata": {},
   "outputs": [],
   "source": [
    "teste = load_images_from_folder('dados/CAPTCHA-10k/teste')\n",
    "teste = np.array(teste)"
   ]
  },
  {
   "cell_type": "code",
   "execution_count": 25,
   "metadata": {},
   "outputs": [],
   "source": [
    "labels = load_strings_from_folder('dados/CAPTCHA-10k/labels10k')"
   ]
  },
  {
   "cell_type": "code",
   "execution_count": 40,
   "metadata": {},
   "outputs": [],
   "source": [
    "images = np.concatenate((treinamento, validacao, teste))"
   ]
  },
  {
   "cell_type": "code",
   "execution_count": 49,
   "metadata": {},
   "outputs": [],
   "source": [
    "images = images.tolist()"
   ]
  },
  {
   "cell_type": "code",
   "execution_count": 54,
   "metadata": {},
   "outputs": [],
   "source": [
    "df = pd.DataFrame({\n",
    "    \"images\": images,\n",
    "    \"labels\": labels[0],\n",
    "})"
   ]
  },
  {
   "cell_type": "code",
   "execution_count": 63,
   "metadata": {},
   "outputs": [],
   "source": [
    "df['images'] = df['images'].apply(np.array)"
   ]
  },
  {
   "cell_type": "code",
   "execution_count": 66,
   "metadata": {},
   "outputs": [],
   "source": [
    "df.to_csv('df.csv', index=False)"
   ]
  }
 ],
 "metadata": {
  "kernelspec": {
   "display_name": "base",
   "language": "python",
   "name": "python3"
  },
  "language_info": {
   "codemirror_mode": {
    "name": "ipython",
    "version": 3
   },
   "file_extension": ".py",
   "mimetype": "text/x-python",
   "name": "python",
   "nbconvert_exporter": "python",
   "pygments_lexer": "ipython3",
   "version": "3.11.4"
  }
 },
 "nbformat": 4,
 "nbformat_minor": 2
}
